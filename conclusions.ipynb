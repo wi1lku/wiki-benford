{
 "cells": [
  {
   "cell_type": "markdown",
   "id": "147acde5",
   "metadata": {},
   "source": [
    "# Benford's law on Wikipedia - conclusions"
   ]
  },
  {
   "cell_type": "markdown",
   "id": "a0cab095",
   "metadata": {},
   "source": [
    "The first digits of the numbers should be as follows: <br>\n",
    "1 -\t30,1% <br>\n",
    "2 -\t17,6% <br>\n",
    "3 -\t12,5% <br>\n",
    "4 -\t9,7% <br>\n",
    "5 -\t7,9% <br>\n",
    "6 -\t6,7% <br>\n",
    "7 -\t5,8% <br>\n",
    "8 -\t5,1% <br>\n",
    "9 -\t4,6% <br>\n",
    "Source: https://en.wikipedia.org/wiki/Benford%27s_law"
   ]
  },
  {
   "cell_type": "code",
   "execution_count": 1,
   "id": "2550c23e",
   "metadata": {},
   "outputs": [
    {
     "name": "stdout",
     "output_type": "stream",
     "text": [
      "  digit count_wiki\n",
      "1     1  41.216877\n",
      "2     2  33.169356\n",
      "3     3   6.253888\n",
      "4     4   4.563592\n",
      "5     5   4.044620\n",
      "6     6   2.787583\n",
      "7     7   2.697908\n",
      "8     8   2.538466\n",
      "9     9   2.727710\n"
     ]
    }
   ],
   "source": [
    "Sys.setenv(`_R_S3_METHOD_REGISTRATION_NOTE_OVERWRITES_` = \"false\")\n",
    "library(ggplot2)\n",
    "results <- c(4420210, 3557172, 670684, 489412, 433756, 298948, 289331, 272232, 292527)\n",
    "\n",
    "df <- data.frame(digit = as.factor(1:9), count_wiki = results)\n",
    "sum <- sum(df$count_wiki)\n",
    "df$count_wiki <- 100*df$count_wiki/sum\n",
    "\n",
    "print(df)"
   ]
  },
  {
   "cell_type": "markdown",
   "id": "5e3c6193",
   "metadata": {},
   "source": [
    "The numbers were taken from Wikipedia, where there are often dates (years). So naturally the numbers 1 and 2 will appear more often in the first position than Benford's law states. Let's get rid of them and check if the distribution is good for numbers 3-9. "
   ]
  },
  {
   "cell_type": "markdown",
   "id": "de4c4398",
   "metadata": {},
   "source": [
    "### Distribution of digits 3-9"
   ]
  },
  {
   "cell_type": "code",
   "execution_count": 2,
   "id": "08c1202a",
   "metadata": {},
   "outputs": [
    {
     "name": "stdout",
     "output_type": "stream",
     "text": [
      "[1] 23.900574 18.546845 15.105163 12.810707 11.089866  9.751434  8.795411\n"
     ]
    }
   ],
   "source": [
    "# wikipedia data\n",
    "results_benford <- c(12.5, 9.7, 7.9, 6.7, 5.8, 5.1, 4.6)\n",
    "results_benford <- 100*results_benford/sum(results_benford)\n",
    "print(results_benford)"
   ]
  },
  {
   "cell_type": "code",
   "execution_count": 3,
   "id": "156dceff",
   "metadata": {},
   "outputs": [
    {
     "name": "stdout",
     "output_type": "stream",
     "text": [
      "  digit count_wiki count_benford\n",
      "3     3  24.416122     23.900574\n",
      "4     4  17.816949     18.546845\n",
      "5     5  15.790803     15.105163\n",
      "6     6  10.883144     12.810707\n",
      "7     7  10.533039     11.089866\n",
      "8     8   9.910553      9.751434\n",
      "9     9  10.649389      8.795411\n"
     ]
    },
    {
     "data": {
      "image/png": "[encoded data removed]",
      "text/plain": [
       "plot without title"
      ]
     },
     "metadata": {},
     "output_type": "display_data"
    }
   ],
   "source": [
    "df <- df[3:9,]\n",
    "sum <- sum(df$count_wiki)\n",
    "df$count_wiki <- 100*df$count_wiki/sum\n",
    "df$count_benford <- results_benford\n",
    "\n",
    "print(df)\n",
    "\n",
    "ggplot() +\n",
    "    geom_col(aes(digit, count_wiki), df) +\n",
    "    geom_point(aes(digit, count_benford), df) +\n",
    "    geom_line(aes(digit, count_benford), group = 1, df)"
   ]
  },
  {
   "cell_type": "markdown",
   "id": "a247a6df",
   "metadata": {},
   "source": [
    "line - Benford's Law <br>\n",
    "bars - first digits of random numbers from Wikipedia <br>"
   ]
  },
  {
   "cell_type": "markdown",
   "id": "b436bf00",
   "metadata": {},
   "source": [
    "## Conclusions"
   ]
  },
  {
   "cell_type": "markdown",
   "id": "5772e100",
   "metadata": {},
   "source": [
    "The distribution of numbers 3-9 only slightly resembles that of Benfor's law. Significant differences can be seen with the numbers 6 and 9. The numbers 6-9 occur with almost the same frequency. "
   ]
  }
 ],
 "metadata": {
  "kernelspec": {
   "display_name": "R",
   "language": "R",
   "name": "ir"
  },
  "language_info": {
   "codemirror_mode": "r",
   "file_extension": ".r",
   "mimetype": "text/x-r-source",
   "name": "R",
   "pygments_lexer": "r",
   "version": "3.6.1"
  }
 },
 "nbformat": 4,
 "nbformat_minor": 5
}
